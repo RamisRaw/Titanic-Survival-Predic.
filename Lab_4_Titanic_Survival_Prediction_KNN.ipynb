{
  "cells": [
    {
      "cell_type": "code",
      "execution_count": null,
      "metadata": {
        "colab": {
          "base_uri": "https://localhost:8080/"
        },
        "id": "qtkrUeKA1mMr",
        "outputId": "e9c76cf9-5360-472a-d0e8-cc3d02508df6"
      },
      "outputs": [
        {
          "output_type": "stream",
          "name": "stdout",
          "text": [
            "Requirement already satisfied: pyspark in /usr/local/lib/python3.10/dist-packages (3.5.0)\n",
            "Requirement already satisfied: py4j==0.10.9.7 in /usr/local/lib/python3.10/dist-packages (from pyspark) (0.10.9.7)\n"
          ]
        }
      ],
      "source": [
        "!pip install --upgrade pyspark"
      ]
    },
    {
      "cell_type": "code",
      "execution_count": null,
      "metadata": {
        "id": "xWXr6bNfuK0y"
      },
      "outputs": [],
      "source": [
        "import numpy as np\n",
        "import pandas as pd\n",
        "from sklearn.model_selection import train_test_split\n",
        "from sklearn.linear_model import LogisticRegression\n",
        "from sklearn.preprocessing import StandardScaler\n",
        "from sklearn.tree import DecisionTreeClassifier\n",
        "import matplotlib.pyplot as plt\n",
        "from sklearn.tree import DecisionTreeClassifier, plot_tree\n",
        "from sklearn.metrics import accuracy_score, precision_score, recall_score, f1_score\n",
        "from scipy import stats\n",
        "from sklearn.neighbors import KNeighborsClassifier"
      ]
    },
    {
      "cell_type": "code",
      "execution_count": null,
      "metadata": {
        "id": "BH4giCudWDh3"
      },
      "outputs": [],
      "source": [
        "# Install and set up PySpark in Colab\n",
        "!pip install -q findspark\n",
        "!pip install -q pyspark\n",
        "\n",
        "# Import necessary libraries\n",
        "from pyspark.sql import SparkSession\n",
        "import pyspark.sql.functions as F\n",
        "\n",
        "# Create a Spark session\n",
        "spark = SparkSession.builder.appName(\"Colab\").getOrCreate()\n",
        "spark = SparkSession.builder.appName(\"KNN_Classifier\").getOrCreate()\n",
        "\n"
      ]
    },
    {
      "cell_type": "code",
      "execution_count": null,
      "metadata": {
        "colab": {
          "base_uri": "https://localhost:8080/"
        },
        "id": "LxkHf48gszVK",
        "outputId": "004ef6bd-d79f-4443-94db-baa98abd100a"
      },
      "outputs": [
        {
          "output_type": "stream",
          "name": "stdout",
          "text": [
            "Drive already mounted at /content/drive; to attempt to forcibly remount, call drive.mount(\"/content/drive\", force_remount=True).\n"
          ]
        }
      ],
      "source": [
        "#Mount Google Drive\n",
        "from google.colab import drive\n",
        "drive.mount('/content/drive')"
      ]
    },
    {
      "cell_type": "code",
      "execution_count": null,
      "metadata": {
        "id": "c5Xy6gqttRPv",
        "colab": {
          "base_uri": "https://localhost:8080/"
        },
        "outputId": "4b90d2af-64c9-42bc-83cf-e76abce56808"
      },
      "outputs": [
        {
          "output_type": "stream",
          "name": "stdout",
          "text": [
            "/content/drive/My Drive/Big Data\n"
          ]
        }
      ],
      "source": [
        "#Change the Directory to Machine Learning folder\n",
        "%cd /content/drive/My Drive/Big Data"
      ]
    },
    {
      "cell_type": "code",
      "execution_count": null,
      "metadata": {
        "id": "Iqf12xS6tcsq"
      },
      "outputs": [],
      "source": [
        "# Read CSV into a Spark DataFrame\n",
        "train_data = spark.read.option(\"header\", \"true\").csv('/content/drive/My Drive/Big Data/train.csv', inferSchema=True)"
      ]
    },
    {
      "cell_type": "code",
      "execution_count": null,
      "metadata": {
        "id": "A8_t2e3KtrCR",
        "colab": {
          "base_uri": "https://localhost:8080/"
        },
        "outputId": "76e36d6e-8706-43ce-a6ed-2a04ae34c6c7"
      },
      "outputs": [
        {
          "output_type": "stream",
          "name": "stdout",
          "text": [
            "+-----------+--------+------+--------------------+------+----+-----+-----+----------------+-------+-----+--------+\n",
            "|PassengerId|Survived|Pclass|                Name|   Sex| Age|SibSp|Parch|          Ticket|   Fare|Cabin|Embarked|\n",
            "+-----------+--------+------+--------------------+------+----+-----+-----+----------------+-------+-----+--------+\n",
            "|          1|       0|     3|Braund, Mr. Owen ...|  male|22.0|    1|    0|       A/5 21171|   7.25| NULL|       S|\n",
            "|          2|       1|     1|Cumings, Mrs. Joh...|female|38.0|    1|    0|        PC 17599|71.2833|  C85|       C|\n",
            "|          3|       1|     3|Heikkinen, Miss. ...|female|26.0|    0|    0|STON/O2. 3101282|  7.925| NULL|       S|\n",
            "|          4|       1|     1|Futrelle, Mrs. Ja...|female|35.0|    1|    0|          113803|   53.1| C123|       S|\n",
            "|          5|       0|     3|Allen, Mr. Willia...|  male|35.0|    0|    0|          373450|   8.05| NULL|       S|\n",
            "|          6|       0|     3|    Moran, Mr. James|  male|NULL|    0|    0|          330877| 8.4583| NULL|       Q|\n",
            "|          7|       0|     1|McCarthy, Mr. Tim...|  male|54.0|    0|    0|           17463|51.8625|  E46|       S|\n",
            "|          8|       0|     3|Palsson, Master. ...|  male| 2.0|    3|    1|          349909| 21.075| NULL|       S|\n",
            "|          9|       1|     3|Johnson, Mrs. Osc...|female|27.0|    0|    2|          347742|11.1333| NULL|       S|\n",
            "|         10|       1|     2|Nasser, Mrs. Nich...|female|14.0|    1|    0|          237736|30.0708| NULL|       C|\n",
            "|         11|       1|     3|Sandstrom, Miss. ...|female| 4.0|    1|    1|         PP 9549|   16.7|   G6|       S|\n",
            "|         12|       1|     1|Bonnell, Miss. El...|female|58.0|    0|    0|          113783|  26.55| C103|       S|\n",
            "|         13|       0|     3|Saundercock, Mr. ...|  male|20.0|    0|    0|       A/5. 2151|   8.05| NULL|       S|\n",
            "|         14|       0|     3|Andersson, Mr. An...|  male|39.0|    1|    5|          347082| 31.275| NULL|       S|\n",
            "|         15|       0|     3|Vestrom, Miss. Hu...|female|14.0|    0|    0|          350406| 7.8542| NULL|       S|\n",
            "|         16|       1|     2|Hewlett, Mrs. (Ma...|female|55.0|    0|    0|          248706|   16.0| NULL|       S|\n",
            "|         17|       0|     3|Rice, Master. Eugene|  male| 2.0|    4|    1|          382652| 29.125| NULL|       Q|\n",
            "|         18|       1|     2|Williams, Mr. Cha...|  male|NULL|    0|    0|          244373|   13.0| NULL|       S|\n",
            "|         19|       0|     3|Vander Planke, Mr...|female|31.0|    1|    0|          345763|   18.0| NULL|       S|\n",
            "|         20|       1|     3|Masselmani, Mrs. ...|female|NULL|    0|    0|            2649|  7.225| NULL|       C|\n",
            "+-----------+--------+------+--------------------+------+----+-----+-----+----------------+-------+-----+--------+\n",
            "only showing top 20 rows\n",
            "\n"
          ]
        }
      ],
      "source": [
        "# Display the first few rows of the DataFrame\n",
        "train_data.show()"
      ]
    },
    {
      "cell_type": "code",
      "execution_count": null,
      "metadata": {
        "id": "p1K_pFTNyE0_"
      },
      "outputs": [],
      "source": [
        "from pyspark.ml.feature import Imputer, StringIndexer, VectorAssembler, StandardScaler\n",
        "from pyspark.ml import Pipeline\n",
        "from sklearn.neighbors import KNeighborsClassifier\n",
        "from pyspark.ml.clustering import KMeans"
      ]
    },
    {
      "cell_type": "code",
      "source": [
        "# Drop columns that are not being used\n",
        "columns_to_drop = ['PassengerID', 'Name', 'Ticket', 'Cabin', 'Embarked']\n",
        "train_data = train_data.drop(*columns_to_drop)\n",
        "\n",
        "# Convert categorical variables\n",
        "from pyspark.ml.feature import StringIndexer\n",
        "\n",
        "# Use a different variable name for the StringIndexer object\n",
        "indexer = StringIndexer(inputCols=[\"Sex\"], outputCols=[\"Sex_indexed\"])\n",
        "indexed_data = indexer.fit(train_data).transform(train_data)\n",
        "\n",
        "# Drop the original \"Sex\" column\n",
        "indexed_data = indexed_data.drop(\"Sex\")\n",
        "#Drop rows with NaN values\n",
        "cleaned_data = indexed_data.na.drop()\n",
        "# Verify changes\n",
        "cleaned_data.show()\n"
      ],
      "metadata": {
        "colab": {
          "base_uri": "https://localhost:8080/"
        },
        "id": "jxyiovhzw5NH",
        "outputId": "c6cf8998-0afa-4a77-e2ca-f3ec007bab1c"
      },
      "execution_count": null,
      "outputs": [
        {
          "output_type": "stream",
          "name": "stdout",
          "text": [
            "+--------+------+----+-----+-----+-------+-----------+\n",
            "|Survived|Pclass| Age|SibSp|Parch|   Fare|Sex_indexed|\n",
            "+--------+------+----+-----+-----+-------+-----------+\n",
            "|       0|     3|22.0|    1|    0|   7.25|        0.0|\n",
            "|       1|     1|38.0|    1|    0|71.2833|        1.0|\n",
            "|       1|     3|26.0|    0|    0|  7.925|        1.0|\n",
            "|       1|     1|35.0|    1|    0|   53.1|        1.0|\n",
            "|       0|     3|35.0|    0|    0|   8.05|        0.0|\n",
            "|       0|     1|54.0|    0|    0|51.8625|        0.0|\n",
            "|       0|     3| 2.0|    3|    1| 21.075|        0.0|\n",
            "|       1|     3|27.0|    0|    2|11.1333|        1.0|\n",
            "|       1|     2|14.0|    1|    0|30.0708|        1.0|\n",
            "|       1|     3| 4.0|    1|    1|   16.7|        1.0|\n",
            "|       1|     1|58.0|    0|    0|  26.55|        1.0|\n",
            "|       0|     3|20.0|    0|    0|   8.05|        0.0|\n",
            "|       0|     3|39.0|    1|    5| 31.275|        0.0|\n",
            "|       0|     3|14.0|    0|    0| 7.8542|        1.0|\n",
            "|       1|     2|55.0|    0|    0|   16.0|        1.0|\n",
            "|       0|     3| 2.0|    4|    1| 29.125|        0.0|\n",
            "|       0|     3|31.0|    1|    0|   18.0|        1.0|\n",
            "|       0|     2|35.0|    0|    0|   26.0|        0.0|\n",
            "|       1|     2|34.0|    0|    0|   13.0|        0.0|\n",
            "|       1|     3|15.0|    0|    0| 8.0292|        1.0|\n",
            "+--------+------+----+-----+-----+-------+-----------+\n",
            "only showing top 20 rows\n",
            "\n"
          ]
        }
      ]
    },
    {
      "cell_type": "code",
      "source": [
        "# Check the number of rows\n",
        "num_rows = indexed_data.count()\n",
        "\n",
        "# Check the number of columns\n",
        "num_columns = len(indexed_data.columns)\n",
        "\n",
        "# Display the shape\n",
        "print(f\"Number of rows: {num_rows}, Number of columns: {num_columns}\")"
      ],
      "metadata": {
        "colab": {
          "base_uri": "https://localhost:8080/"
        },
        "id": "nt52LsCb56-W",
        "outputId": "334cfcc2-3ed2-40de-8c39-b117ba563c2b"
      },
      "execution_count": null,
      "outputs": [
        {
          "output_type": "stream",
          "name": "stdout",
          "text": [
            "Number of rows: 891, Number of columns: 7\n"
          ]
        }
      ]
    },
    {
      "cell_type": "code",
      "source": [
        "from pyspark.sql.functions import col, stddev, mean\n",
        "\n",
        "# Assuming 'cleaned_data' is your cleaned DataFrame\n",
        "numeric_columns = ['Pclass', 'Age', 'SibSp', 'Parch', 'Fare', 'Sex_indexed']\n",
        "\n",
        "# Define the threshold for standard deviations\n",
        "std_dev_threshold = 3.0\n",
        "\n",
        "# Calculate mean and standard deviation for each numeric column\n",
        "statistics = cleaned_data.select(*[stddev(column).alias(column + '_stddev') for column in numeric_columns] +\n",
        "                                 [mean(column).alias(column + '_mean') for column in numeric_columns]).collect()[0]\n",
        "\n",
        "# Create a DataFrame with z-scores\n",
        "outliers_removed_data = cleaned_data.select(\n",
        "    '*',\n",
        "    *[((col(column) - statistics[column + '_mean']) / statistics[column + '_stddev']).alias(column + '_z_score')\n",
        "      for column in numeric_columns]\n",
        ")\n",
        "\n",
        "# Filter out rows with z-scores beyond the threshold\n",
        "filter_conditions = [(col(column + '_z_score') <= std_dev_threshold) & (col(column + '_z_score') >= -std_dev_threshold)\n",
        "                      for column in numeric_columns]\n",
        "\n",
        "outliers_removed_data = outliers_removed_data.filter(\n",
        "    filter_conditions[0] & filter_conditions[1] & filter_conditions[2] & filter_conditions[3] & filter_conditions[4] & filter_conditions[5]\n",
        ")\n",
        "\n",
        "# Drop the z-score columns\n",
        "outliers_removed_data = outliers_removed_data.drop(*[column + '_z_score' for column in numeric_columns])\n",
        "\n",
        "# Display the result\n",
        "outliers_removed_data.show()\n",
        "\n"
      ],
      "metadata": {
        "colab": {
          "base_uri": "https://localhost:8080/"
        },
        "id": "28xctfNE7ovG",
        "outputId": "7067ee3c-61fa-4852-8755-3b86b4084e17"
      },
      "execution_count": null,
      "outputs": [
        {
          "output_type": "stream",
          "name": "stdout",
          "text": [
            "+--------+------+----+-----+-----+-------+-----------+\n",
            "|Survived|Pclass| Age|SibSp|Parch|   Fare|Sex_indexed|\n",
            "+--------+------+----+-----+-----+-------+-----------+\n",
            "|       0|     3|22.0|    1|    0|   7.25|        0.0|\n",
            "|       1|     1|38.0|    1|    0|71.2833|        1.0|\n",
            "|       1|     3|26.0|    0|    0|  7.925|        1.0|\n",
            "|       1|     1|35.0|    1|    0|   53.1|        1.0|\n",
            "|       0|     3|35.0|    0|    0|   8.05|        0.0|\n",
            "|       0|     1|54.0|    0|    0|51.8625|        0.0|\n",
            "|       0|     3| 2.0|    3|    1| 21.075|        0.0|\n",
            "|       1|     3|27.0|    0|    2|11.1333|        1.0|\n",
            "|       1|     2|14.0|    1|    0|30.0708|        1.0|\n",
            "|       1|     3| 4.0|    1|    1|   16.7|        1.0|\n",
            "|       1|     1|58.0|    0|    0|  26.55|        1.0|\n",
            "|       0|     3|20.0|    0|    0|   8.05|        0.0|\n",
            "|       0|     3|14.0|    0|    0| 7.8542|        1.0|\n",
            "|       1|     2|55.0|    0|    0|   16.0|        1.0|\n",
            "|       0|     3|31.0|    1|    0|   18.0|        1.0|\n",
            "|       0|     2|35.0|    0|    0|   26.0|        0.0|\n",
            "|       1|     2|34.0|    0|    0|   13.0|        0.0|\n",
            "|       1|     3|15.0|    0|    0| 8.0292|        1.0|\n",
            "|       1|     1|28.0|    0|    0|   35.5|        0.0|\n",
            "|       0|     3| 8.0|    3|    1| 21.075|        1.0|\n",
            "+--------+------+----+-----+-----+-------+-----------+\n",
            "only showing top 20 rows\n",
            "\n"
          ]
        }
      ]
    },
    {
      "cell_type": "code",
      "source": [
        "#Visualize outliers\n",
        "import seaborn as sns\n",
        "import matplotlib.pyplot as plt\n",
        "import pandas as pd\n",
        "\n",
        "numeric_columns = ['Pclass', 'Age', 'SibSp', 'Parch', 'Fare', 'Sex_indexed']\n",
        "\n",
        "# Convert Spark DataFrame to Pandas DataFrame\n",
        "pandas_df = outliers_removed_data.toPandas()\n",
        "\n",
        "# Create box plots for each numeric column\n",
        "for column in numeric_columns:\n",
        "    sns.boxplot(x=pandas_df[column])\n",
        "    plt.title(f'Box Plot for {column}')\n",
        "    plt.show()\n"
      ],
      "metadata": {
        "id": "31lphNv6Bke1"
      },
      "execution_count": null,
      "outputs": []
    },
    {
      "cell_type": "code",
      "source": [
        "from pyspark.sql import functions as F\n",
        "\n",
        "# Calculate mean and standard deviation for each numeric column\n",
        "statistics = cleaned_data.select(\n",
        "    *[F.mean(F.col(feature)).alias(feature + \"_mean\") for feature in numeric_columns] +\n",
        "    [F.stddev(F.col(feature)).alias(feature + \"_std\") for feature in numeric_columns]\n",
        ").collect()[0]\n",
        "\n",
        "# Calculate scaled values for each numeric column\n",
        "scaled_data = cleaned_data.select(\n",
        "    \"*\",\n",
        "    *[((F.col(feature) - statistics[feature + '_mean']) / statistics[feature + '_std']).alias(feature + '_scaled')\n",
        "      for feature in numeric_columns]\n",
        ")\n",
        "\n",
        "# Drop the original and mean/stddev columns\n",
        "scaled_data = scaled_data.drop(*[feature + '_mean' for feature in numeric_columns] + [feature + '_std' for feature in numeric_columns])\n",
        "\n",
        "# Display the result\n",
        "scaled_data.show()\n",
        "\n"
      ],
      "metadata": {
        "colab": {
          "base_uri": "https://localhost:8080/"
        },
        "id": "GunNNiXTGSZd",
        "outputId": "ace6c6a6-26dd-4101-c08c-25e82ec798f8"
      },
      "execution_count": null,
      "outputs": [
        {
          "output_type": "stream",
          "name": "stdout",
          "text": [
            "+--------+------+----+-----+-----+-------+-----------+-------------------+--------------------+-------------------+-------------------+--------------------+-------------------+\n",
            "|Survived|Pclass| Age|SibSp|Parch|   Fare|Sex_indexed|      Pclass_scaled|          Age_scaled|       SibSp_scaled|       Parch_scaled|         Fare_scaled| Sex_indexed_scaled|\n",
            "+--------+------+----+-----+-----+-------+-----------+-------------------+--------------------+-------------------+-------------------+--------------------+-------------------+\n",
            "|       0|     3|22.0|    1|    0|   7.25|        0.0|  0.910594031798256| -0.5300050983330729| 0.5242026579654963|-0.5055407535895291| -0.5186143080290967|-0.7585196075927614|\n",
            "|       1|     1|38.0|    1|    0|71.2833|        1.0|-1.4753294129868995|  0.5714304118216116| 0.5242026579654963|-0.5055407535895291|  0.6914120587537427| 1.3165110430632985|\n",
            "|       1|     3|26.0|    0|    0|  7.925|        1.0|  0.910594031798256| -0.2546462207944017|-0.5513165885499184|-0.5055407535895291| -0.5058589479652171| 1.3165110430632985|\n",
            "|       1|     1|35.0|    1|    0|   53.1|        1.0|-1.4753294129868995|  0.3649112536676083| 0.5242026579654963|-0.5055407535895291| 0.34780533482849757| 1.3165110430632985|\n",
            "|       0|     3|35.0|    0|    0|   8.05|        0.0|  0.910594031798256|  0.3649112536676083|-0.5513165885499184|-0.5055407535895291| -0.5034968442496839|-0.7585196075927614|\n",
            "|       0|     1|54.0|    0|    0|51.8625|        0.0|-1.4753294129868995|   1.672865921976296|-0.5513165885499184|-0.5055407535895291| 0.32442050804471834|-0.7585196075927614|\n",
            "|       0|     3| 2.0|    3|    1| 21.075|        0.0|  0.910594031798256| -1.9067994860264283| 2.6752411509963254|  0.666394629731652| -0.2573656370911198|-0.7585196075927614|\n",
            "|       1|     3|27.0|    0|    2|11.1333|        1.0|  0.910594031798256|-0.18580650140973393|-0.5513165885499184|  1.838330013052833|-0.44523224916085474| 1.3165110430632985|\n",
            "|       1|     2|14.0|    1|    0|30.0708|        1.0|-0.2823676905943217|  -1.080722853410415| 0.5242026579654963|-0.5055407535895291|-0.08737353625756812| 1.3165110430632985|\n",
            "|       1|     3| 4.0|    1|    1|   16.7|        1.0|  0.910594031798256| -1.7691200472570927| 0.5242026579654963|  0.666394629731652| -0.3400392671347834| 1.3165110430632985|\n",
            "|       1|     1|58.0|    0|    0|  26.55|        1.0|-1.4753294129868995|   1.948224799514967|-0.5513165885499184|-0.5055407535895291|-0.15390549435076367| 1.3165110430632985|\n",
            "|       0|     3|20.0|    0|    0|   8.05|        0.0|  0.910594031798256| -0.6676845371024084|-0.5513165885499184|-0.5055407535895291| -0.5034968442496839|-0.7585196075927614|\n",
            "|       0|     3|39.0|    1|    5| 31.275|        0.0|  0.910594031798256|  0.6402701312062794| 0.5242026579654963|  5.354136163016376|-0.06461797390360706|-0.7585196075927614|\n",
            "|       0|     3|14.0|    0|    0| 7.8542|        1.0|  0.910594031798256|  -1.080722853410415|-0.5513165885499184|-0.5055407535895291| -0.5071968435096952| 1.3165110430632985|\n",
            "|       1|     2|55.0|    0|    0|   16.0|        1.0|-0.2823676905943217|  1.7417056413609637|-0.5513165885499184|-0.5055407535895291|-0.35326704794176955| 1.3165110430632985|\n",
            "|       0|     3| 2.0|    4|    1| 29.125|        0.0|  0.910594031798256| -1.9067994860264283|   3.75076039751174|  0.666394629731652|-0.10524615781077884|-0.7585196075927614|\n",
            "|       0|     3|31.0|    1|    0|   18.0|        1.0|  0.910594031798256| 0.08955237612893717| 0.5242026579654963|-0.5055407535895291|-0.31547338849323764| 1.3165110430632985|\n",
            "|       0|     2|35.0|    0|    0|   26.0|        0.0|-0.2823676905943217|  0.3649112536676083|-0.5513165885499184|-0.5055407535895291|-0.16429875069910996|-0.7585196075927614|\n",
            "|       1|     2|34.0|    0|    0|   13.0|        0.0|-0.2823676905943217|  0.2960715342829405|-0.5513165885499184|-0.5055407535895291|-0.40995753711456745|-0.7585196075927614|\n",
            "|       1|     3|15.0|    0|    0| 8.0292|        1.0|  0.910594031798256| -1.0118831340257473|-0.5513165885499184|-0.5055407535895291| -0.5038898983079487| 1.3165110430632985|\n",
            "+--------+------+----+-----+-----+-------+-----------+-------------------+--------------------+-------------------+-------------------+--------------------+-------------------+\n",
            "only showing top 20 rows\n",
            "\n"
          ]
        }
      ]
    },
    {
      "cell_type": "code",
      "source": [
        "from pyspark.ml.feature import VectorAssembler\n",
        "\n",
        "# The'scaled_data' DataFrame with scaled features\n",
        "assembler = VectorAssembler(\n",
        "    inputCols=[\"Pclass_scaled\", \"Age_scaled\", \"SibSp_scaled\", \"Parch_scaled\", \"Fare_scaled\", \"Sex_indexed_scaled\"],\n",
        "    outputCol=\"input_features\"\n",
        ")\n",
        "\n",
        "# Transform the data to include the features column\n",
        "assembled_data = assembler.transform(scaled_data)\n",
        "\n",
        "# Split the data into training and testing sets (80% training, 20% testing)\n",
        "train_data, test_data = assembled_data.randomSplit([0.8, 0.2], seed=42)\n",
        "\n",
        "# Display the number of rows in each set\n",
        "print(\"Training set count:\", train_data.count())\n",
        "print(\"Testing set count:\", test_data.count())\n"
      ],
      "metadata": {
        "colab": {
          "base_uri": "https://localhost:8080/"
        },
        "id": "YMvSn7PjPvHM",
        "outputId": "5c16e8e3-f74b-46b9-85be-b107d360a398"
      },
      "execution_count": null,
      "outputs": [
        {
          "output_type": "stream",
          "name": "stdout",
          "text": [
            "Training set count: 600\n",
            "Testing set count: 114\n"
          ]
        }
      ]
    },
    {
      "cell_type": "code",
      "source": [
        "#Spark MLib does not have a built in KNN implementation\n",
        "#Steps to follow for KNN implementation\n",
        "#1. Convert the Spark DataFrame to Pandas DataFrame\n",
        "#2. Train a KNN model using scikit-learn\n",
        "#3. Evaluate model"
      ],
      "metadata": {
        "id": "rogUmAmTT6AM"
      },
      "execution_count": null,
      "outputs": []
    },
    {
      "cell_type": "code",
      "source": [
        "!pip install scikit-learn\n"
      ],
      "metadata": {
        "colab": {
          "base_uri": "https://localhost:8080/"
        },
        "id": "8LYPG6evQq1X",
        "outputId": "9981243c-110c-459f-a2a7-883a1b8f9f97"
      },
      "execution_count": null,
      "outputs": [
        {
          "output_type": "stream",
          "name": "stdout",
          "text": [
            "Requirement already satisfied: scikit-learn in /usr/local/lib/python3.10/dist-packages (1.2.2)\n",
            "Requirement already satisfied: numpy>=1.17.3 in /usr/local/lib/python3.10/dist-packages (from scikit-learn) (1.23.5)\n",
            "Requirement already satisfied: scipy>=1.3.2 in /usr/local/lib/python3.10/dist-packages (from scikit-learn) (1.11.4)\n",
            "Requirement already satisfied: joblib>=1.1.1 in /usr/local/lib/python3.10/dist-packages (from scikit-learn) (1.3.2)\n",
            "Requirement already satisfied: threadpoolctl>=2.0.0 in /usr/local/lib/python3.10/dist-packages (from scikit-learn) (3.2.0)\n"
          ]
        }
      ]
    },
    {
      "cell_type": "code",
      "source": [
        "\n",
        "from sklearn.model_selection import train_test_split\n",
        "from sklearn.neighbors import KNeighborsClassifier\n",
        "from sklearn.metrics import accuracy_score\n",
        "\n",
        "# Convert Spark DataFrame to Pandas DataFrame\n",
        "pandas_df = scaled_data.toPandas()\n",
        "\n",
        "# Define features and target\n",
        "X = pandas_df[['Pclass_scaled', 'Age_scaled', 'SibSp_scaled', 'Parch_scaled', 'Fare_scaled', 'Sex_indexed_scaled']]\n",
        "y = pandas_df['Survived']\n",
        "\n",
        "# Split the data into training and testing sets\n",
        "X_train, X_test, y_train, y_test = train_test_split(X, y, test_size=0.2, random_state=42)\n",
        "\n",
        "# Use scikit-learn's KNeighborsClassifier\n",
        "knn_classifier = KNeighborsClassifier(n_neighbors=3)\n",
        "knn_classifier.fit(X_train, y_train)\n",
        "\n",
        "# Make predictions on the testing set\n",
        "y_pred = knn_classifier.predict(X_test)\n",
        "\n",
        "# Evaluate the model\n",
        "accuracy = accuracy_score(y_test, y_pred)\n",
        "print(f\"Accuracy: {accuracy:.2%}\")\n"
      ],
      "metadata": {
        "colab": {
          "base_uri": "https://localhost:8080/"
        },
        "id": "yLcBI06gTniB",
        "outputId": "410b253a-c445-46b1-beec-27c36b26a5d8"
      },
      "execution_count": null,
      "outputs": [
        {
          "output_type": "stream",
          "name": "stdout",
          "text": [
            "Accuracy: 74.83%\n"
          ]
        }
      ]
    },
    {
      "cell_type": "code",
      "source": [
        "import numpy as np\n",
        "import pandas as pd\n",
        "from sklearn.model_selection import train_test_split, cross_val_score, KFold\n",
        "from sklearn.neighbors import KNeighborsClassifier\n",
        "from sklearn.metrics import accuracy_score, confusion_matrix\n",
        "import matplotlib.pyplot as plt\n",
        "\n",
        "# Assuming 'X' and 'y' are your features and target variable\n",
        "X = scaled_data.select(\"Age_scaled\", \"SibSp_scaled\", \"Parch_scaled\", \"Fare_scaled\").toPandas()\n",
        "y = scaled_data.select(\"Survived\").toPandas()\n",
        "\n",
        "# Split the data into training and testing sets\n",
        "X_train, X_test, y_train, y_test = train_test_split(X, y, test_size=0.2, random_state=42)\n",
        "\n",
        "# Create a list of K values to try\n",
        "k_values = list(range(1, 21))\n",
        "\n",
        "accuracy_scores = []\n",
        "\n",
        "for k in k_values:\n",
        "    # Create a KNN classifier with the current K value\n",
        "    knn = KNeighborsClassifier(n_neighbors=k)\n",
        "\n",
        "    # Perform 5-fold cross-validation\n",
        "    kf = KFold(n_splits=5, shuffle=True, random_state=42)\n",
        "    accuracy_scores_kfold = cross_val_score(knn, X, y.values.ravel(), cv=kf, scoring='accuracy')\n",
        "\n",
        "    # Record mean accuracy\n",
        "    accuracy_mean = np.mean(accuracy_scores_kfold)\n",
        "    accuracy_scores.append(accuracy_mean)\n",
        "\n",
        "# Plot the accuracy scores for different K values\n",
        "plt.plot(k_values, accuracy_scores)\n",
        "plt.xlabel(\"K Value\")\n",
        "plt.ylabel(\"Mean Accuracy\")\n",
        "plt.title(\"KNN Classifier Mean Accuracy vs. K Value\")\n",
        "plt.grid(True)\n",
        "plt.show()\n",
        "\n",
        "# Find the best K value\n",
        "best_k = k_values[np.argmax(accuracy_scores)]\n",
        "print(\"The best K value is:\", best_k)\n",
        "\n",
        "# Create a KNN classifier with the best K value\n",
        "best_knn = KNeighborsClassifier(n_neighbors=best_k)\n",
        "\n",
        "# Train the model on the entire training dataset\n",
        "best_knn.fit(X_train, y_train.values.ravel())\n",
        "\n",
        "# Make predictions on the test data\n",
        "y_pred = best_knn.predict(X_test)\n",
        "\n"
      ],
      "metadata": {
        "colab": {
          "base_uri": "https://localhost:8080/",
          "height": 489
        },
        "id": "lm8vfbG1VsA3",
        "outputId": "05961901-5eb8-48a5-f1b5-a6bfbc5543e3"
      },
      "execution_count": null,
      "outputs": [
        {
          "output_type": "display_data",
          "data": {
            "text/plain": [
              "<Figure size 640x480 with 1 Axes>"
            ],
            "image/png": "[encoded data removed]"
          },
          "metadata": {}
        },
        {
          "output_type": "stream",
          "name": "stdout",
          "text": [
            "The best K value is: 12\n"
          ]
        }
      ]
    },
    {
      "cell_type": "code",
      "source": [
        "!pip install scikit-learn\n"
      ],
      "metadata": {
        "colab": {
          "base_uri": "https://localhost:8080/"
        },
        "id": "9Okrcy3NY-11",
        "outputId": "0ac6154d-02a7-4dc1-9c89-24871641bc38"
      },
      "execution_count": null,
      "outputs": [
        {
          "output_type": "stream",
          "name": "stdout",
          "text": [
            "Requirement already satisfied: scikit-learn in /usr/local/lib/python3.10/dist-packages (1.2.2)\n",
            "Requirement already satisfied: numpy>=1.17.3 in /usr/local/lib/python3.10/dist-packages (from scikit-learn) (1.23.5)\n",
            "Requirement already satisfied: scipy>=1.3.2 in /usr/local/lib/python3.10/dist-packages (from scikit-learn) (1.11.4)\n",
            "Requirement already satisfied: joblib>=1.1.1 in /usr/local/lib/python3.10/dist-packages (from scikit-learn) (1.3.2)\n",
            "Requirement already satisfied: threadpoolctl>=2.0.0 in /usr/local/lib/python3.10/dist-packages (from scikit-learn) (3.2.0)\n"
          ]
        }
      ]
    },
    {
      "cell_type": "code",
      "source": [
        "from sklearn.model_selection import cross_val_score, KFold\n",
        "from sklearn.neighbors import KNeighborsClassifier\n",
        "from sklearn.metrics import accuracy_score, confusion_matrix,  precision_score, recall_score, f1_score\n",
        "import numpy as np\n",
        "\n",
        "# Assuming 'X' and 'y' are your features and target variable\n",
        "X = scaled_data.select(\"Age_scaled\", \"SibSp_scaled\", \"Parch_scaled\", \"Fare_scaled\").toPandas()\n",
        "y = scaled_data.select(\"Survived\").toPandas()\n",
        "\n",
        "# Split the data into training and testing sets\n",
        "X_train, X_test, y_train, y_test = train_test_split(X, y, test_size=0.2, random_state=42)\n",
        "\n",
        "# Create a KNN classifier with the best K value\n",
        "best_knn_model = KNeighborsClassifier(n_neighbors=12)\n",
        "\n",
        "# Perform 5-fold cross-validation\n",
        "cv = KFold(n_splits=5, shuffle=True, random_state=42)\n",
        "cv_scores = cross_val_score(best_knn_model, X_train, y_train.values.ravel(), cv=cv, scoring='accuracy')\n",
        "\n",
        "# Report mean and standard deviation of cross-validation scores\n",
        "print(f\"Mean Cross-Validation Accuracy: {np.mean(cv_scores) * 100:.2f}%\")\n",
        "print(f\"Standard Deviation of Cross-Validation Accuracy: {np.std(cv_scores) * 100:.2f}%\")\n",
        "\n",
        "# Train the model on the entire training dataset\n",
        "best_knn_model.fit(X_train, y_train.values.ravel())\n",
        "\n",
        "# Make predictions on the test data\n",
        "y_pred = best_knn_model.predict(X_test)\n",
        "\n",
        "# Create a confusion matrix\n",
        "confusion = confusion_matrix(y_test, y_pred)\n",
        "\n",
        "# Calculate precision, recall, and F1 score\n",
        "precision = precision_score(y_test, y_pred)\n",
        "recall = recall_score(y_test, y_pred)\n",
        "f1 = f1_score(y_test, y_pred)\n",
        "\n",
        "print(\"Confusion Matrix:\")\n",
        "print(confusion)\n",
        "print(f\"\\nPrecision: {precision * 100:.2f}%\")\n",
        "print(f\"Recall: {recall * 100: .2f}%\")\n",
        "print(f\"F1 Score: {f1*100: .2f}%\")"
      ],
      "metadata": {
        "colab": {
          "base_uri": "https://localhost:8080/"
        },
        "id": "63xccd4FcMqa",
        "outputId": "8e4a3a88-9d8a-4684-fb2b-f16629e19b21"
      },
      "execution_count": null,
      "outputs": [
        {
          "output_type": "stream",
          "name": "stdout",
          "text": [
            "Mean Cross-Validation Accuracy: 73.38%\n",
            "Standard Deviation of Cross-Validation Accuracy: 2.83%\n",
            "Confusion Matrix:\n",
            "[[73 14]\n",
            " [35 21]]\n",
            "\n",
            "Precision: 60.00%\n",
            "Recall:  37.50%\n",
            "F1 Score:  46.15%\n"
          ]
        }
      ]
    },
    {
      "cell_type": "markdown",
      "source": [],
      "metadata": {
        "id": "UthFrzsEifHl"
      }
    },
    {
      "cell_type": "markdown",
      "source": [
        "\n",
        "## Model Evaluation\n",
        "\n",
        "### Mean Cross-Validation Accuracy:\n",
        "The K-Nearest Neighbors (KNN) classifier was evaluated using 5-fold cross-validation. The mean accuracy across the folds was found to be approximately 73.38%, which means, on average, the model correctly predicted the survival status of passengers in the dataset.\n",
        "\n",
        "### Standard Deviation of Cross-Validation Accuracy:\n",
        "The standard deviation of the cross-validation accuracy was calculated to be approximately 2.83%. This measure provides insight into the changeability of the model's performance across different folds. A lower standard deviation suggests more consistent performance.\n",
        "\n",
        "### Confusion Matrix:\n",
        "The confusion matrix provides a detailed breakdown of the model's predictions. In this case:\n",
        "- True Positives (TP): 73\n",
        "- False Positives (FP): 14\n",
        "- False Negatives (FN): 35\n",
        "- True Negatives (TN): 21\n",
        "\n",
        "### Precision, Recall, and F1 Score:\n",
        "- Precision: 60.00%\n",
        "  Precision represents the proportion of true positive predictions among all positive predictions. In this context, it indicates the accuracy of the model in predicting actual survivals among the predicted survivals.\n",
        "\n",
        "- Recall: 37.50%\n",
        "  Recall, also known as sensitivity or true positive rate, represents the proportion of actual positives that were correctly predicted by the model. In this context, it indicates the model's ability to capture all actual survivals.\n",
        "\n",
        "- F1 Score: 46.15%\n",
        "  The F1 score is the consonant mean of precision and recall, providing a balance between the two metrics. It is particularly useful when there is an uneven class distribution. It indicates that the model performed moderately well in correctly identifying survivors while minimizing false positives.\n",
        "\n",
        "Overall, the KNN classifier demonstrates reasonable performance, with room for improvement in capturing true positives and minimizing false negatives.\n",
        "\n",
        "\n",
        "\n",
        "\n",
        "\n",
        "\n",
        "\n",
        "\n",
        "\n",
        "\n",
        "\n",
        "\n"
      ],
      "metadata": {
        "id": "2BitwUobi-9e"
      }
    }
  ],
  "metadata": {
    "colab": {
      "provenance": []
    },
    "kernelspec": {
      "display_name": "Python 3",
      "name": "python3"
    },
    "language_info": {
      "name": "python"
    }
  },
  "nbformat": 4,
  "nbformat_minor": 0
}